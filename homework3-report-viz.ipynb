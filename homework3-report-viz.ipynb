{
 "cells": [
  {
   "cell_type": "markdown",
   "metadata": {},
   "source": [
    "author: Sylvain Laporte  \n",
    "matricule: C3874  \n",
    "date: 2020-11-17  \n",
    "course: IFT6113 - Geometric modeling and shape analysis\n",
    "\n",
    "\n",
    "# Homework 3 - Report"
   ]
  },
  {
   "cell_type": "markdown",
   "metadata": {},
   "source": [
    "## Problem 0 - Anchor vertices"
   ]
  },
  {
   "cell_type": "markdown",
   "metadata": {},
   "source": [
    "We provide two different tools for selecting anchor vertices:\n",
    "\n",
    "- `select_anchors.py`: a command line tool for selecting vertices one by one\n",
    "- `select_anchors_by_range_visual.ipynb`: a Jupyter notebook for selecting groups of vertices based on bounds\n",
    "\n",
    "Each tool stores the requested vertex informations -- indices and new positions -- in a JSON file in the `output/` directory as `{mesh-name}-anchors.json`.\n",
    "\n",
    "### `select_anchors.py`\n",
    "\n",
    "The `select_anchors.py` command line tool is available in the main directory.\n",
    "\n",
    "This command contains a single option:\n",
    "\n",
    "- `--input`, `-i`: to specify a mesh file, eg.: input/armadillo_1k.off (default: input/bar2.off)\n",
    "\n",
    "### `select_anchors_by_range_visual.ipynb`\n",
    "\n",
    "The `select_anchors_by_range_visual.ipynb` tool is a Jupyter notebook used to select groups of vertices based on bounds -- greater than, less than -- with some visual aid.\n",
    "\n",
    "Instructions for this tool are included inside the notebook.\n",
    "\\pagebreak\n",
    "\n"
   ]
  },
  {
   "cell_type": "markdown",
   "metadata": {},
   "source": [
    "## Problem 1 - Biharmonic deformations"
   ]
  },
  {
   "cell_type": "markdown",
   "metadata": {},
   "source": [
    "### 1.\n",
    "\n",
    "The [derivations](problem1_derivations.pdf) are available in `problem1_derivations.pdf`.\n",
    "\n",
    "To implement this solution, we used Cholesky decomposition solver on the obtained derivation. We removed the rows associated to the user provided anchors from the linear system.\n",
    "\n",
    "$$\\pmb{K}_{u\\ \\times\\ u}\\pmb{d} = \\pmb{K}_{u\\ \\times\\ k}\\hat{\\pmb{d}}_{user}$$\n",
    "\n",
    "where $u$ is used for \"unknown\" displacements and $k$ for \"known\" displacements."
   ]
  },
  {
   "cell_type": "markdown",
   "metadata": {},
   "source": [
    "## 2.\n",
    "\n",
    "Results obtained with our implementation of biharmonic deformation for armadillo and bar1.\n",
    "\n",
    "A demonstration of victory...\n",
    "\n",
    "![](images/biharmonic_armadillo_working1.png)\n",
    "\\pagebreak\n",
    "\n",
    "![](images/biharmonic_armadillo_working2.png)\n",
    "\\pagebreak\n",
    "\n",
    "![](images/biharmonic_bar1_working1.png)\n",
    "\\pagebreak\n",
    "\n",
    "![](images/biharmonic_bar1_working2.png)\n",
    "\\pagebreak"
   ]
  },
  {
   "cell_type": "markdown",
   "metadata": {},
   "source": [
    "## Problem 2 - As-Rigid-As-Possible deformation\n",
    "\n",
    "At this time, our implementation of ARAP deformation is still buggy and does not produce the expected result. We suspect some errors occur while computing the initial guess and/or the rotations.\n",
    "\n",
    "For computing the initial guess, we tried a naive Laplacian editing method, then our working biharmonic deformation as a test. The following are the results as tested on `bar2.off`.\n",
    "\n",
    "### Naive Laplacian editing guess\n",
    "\n",
    "![](images/bugs/bug_arap_naiveL_iter1.png)\n",
    "\\pagebreak\n",
    "\n",
    "![](images/bugs/bug_arap_naiveL_iter2.png)\n",
    "\\pagebreak\n",
    "\n",
    "![](images/bugs/bug_arap_naiveL_iter3.png)\n",
    "\\pagebreak\n",
    "\n",
    "### Biharmonic guess\n",
    "\n",
    "![](images/bugs/bug_arap_biharmonic_iter1.png)\n",
    "\\pagebreak\n",
    "\n",
    "![](images/bugs/bug_arap_biharmonic_iter2.png)\n",
    "\\pagebreak\n",
    "\n",
    "![](images/bugs/bug_arap_biharmonic_iter3.png)\n",
    "\\pagebreak"
   ]
  },
  {
   "cell_type": "markdown",
   "metadata": {},
   "source": [
    "## Bonus - Bloopers\n",
    "\n",
    "The following images are some \"interesting\" results collected while debugging the algorithms.\n",
    "\n",
    "### Biharmonic\n",
    "\n",
    "Didn't take note on this one, one of these: didn't divide by -1, mixed variables, or didn't remove a debug multiplier. Kind of sexy though.\n",
    "\n",
    "![](images/bugs/bug_biharmonic_sexy_but_incorrect.png)\n",
    "\\pagebreak\n",
    "\n",
    "Some misselected vertices...\n",
    "\n",
    "![](images/bugs/bug_biharmonic_bar1_wrong_vertices.png)\n",
    "\\pagebreak\n",
    "\n",
    "Eager to test on other meshes, I forgot to select new anchors points. Took me two attempts to realize it. This must be how it feels to pass through a black hole; the first is a bunny, the second is an armadillo.\n",
    "\n",
    "![](images/bugs/bug_biharmonic_bunny_in_black_hole_wrong_anchors.png)\n",
    "\\pagebreak\n",
    "\n",
    "![](images/bugs/bug_biharmonic_armadillo_in_black_hole_wrong_anchors_still.png)\n",
    "\\pagebreak\n",
    "\n",
    "### ARAP\n",
    "\n",
    "Lots of bugs. Kind of a great trophy designer though.\n",
    "\n",
    "![](images/bugs/bug_arap_duck_face_bar.png)\n",
    "\\pagebreak\n",
    "\n",
    "![](images/bugs/bug_arap_trophy_maker1.png)\n",
    "\\pagebreak\n",
    "\n",
    "![](images/bugs/bug_arap_trophy_maker2.png)\n",
    "\\pagebreak\n",
    "\n",
    "![](images/bugs/bug_arap_celery_equilibrium.png)\n",
    "\\pagebreak\n",
    "\n",
    "Inverted guessed vertices and current vertices whil computing rotations.\n",
    "\n",
    "![](images/bugs/bug_arap_inverted_guess_and_current_iter1.png)\n",
    "\\pagebreak\n",
    "\n",
    "![](images/bugs/bug_arap_inverted_guess_and_current_iter2.png)\n",
    "\\pagebreak\n",
    "\n",
    "![](images/bugs/bug_arap_inverted_guess_and_current_iter3.png)\n",
    "\n",
    "No real bunnies nor armadillos were harmed during this homework."
   ]
  },
  {
   "cell_type": "code",
   "execution_count": null,
   "metadata": {},
   "outputs": [],
   "source": []
  }
 ],
 "metadata": {
  "kernelspec": {
   "display_name": "Python 3",
   "language": "python",
   "name": "python3"
  },
  "language_info": {
   "codemirror_mode": {
    "name": "ipython",
    "version": 3
   },
   "file_extension": ".py",
   "mimetype": "text/x-python",
   "name": "python",
   "nbconvert_exporter": "python",
   "pygments_lexer": "ipython3",
   "version": "3.8.5"
  }
 },
 "nbformat": 4,
 "nbformat_minor": 4
}
