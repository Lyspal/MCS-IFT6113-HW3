{
 "cells": [
  {
   "cell_type": "markdown",
   "metadata": {},
   "source": [
    "# Visual anchor selector based on bounds"
   ]
  },
  {
   "cell_type": "markdown",
   "metadata": {},
   "source": [
    "A rudimentary helper for selecting vertices on a mesh."
   ]
  },
  {
   "cell_type": "code",
   "execution_count": 1,
   "metadata": {},
   "outputs": [],
   "source": [
    "import json\n",
    "import numpy as np\n",
    "import meshplot as mp\n",
    "from scripts import load_mesh, compute_laplacian, compute_massmatrix, \\\n",
    "    compute_eigenv_sparse"
   ]
  },
  {
   "cell_type": "markdown",
   "metadata": {},
   "source": [
    "## Select the vertices"
   ]
  },
  {
   "cell_type": "markdown",
   "metadata": {},
   "source": [
    "This program uses bounds on coordinate dimensions to select a group of vertices.\n",
    "\n",
    "For manual picking, you may prefer the `selectanchors.py` command line script.\n",
    "\n",
    "### Instructions\n",
    "\n",
    "1. First, set the mesh file path using `mesh_file`.\n",
    "2. Then, to help finding vertex coordinate bounds, use the interactive sliders to draw points on the mesh plot. You can set the sliders range with `slider_range`.\n",
    "3. Finally, copy the bounds values to `x`, `y`, `z`, and select the direction to include:\n",
    "    - greater than == True\n",
    "    - less than == False"
   ]
  },
  {
   "cell_type": "code",
   "execution_count": 2,
   "metadata": {},
   "outputs": [
    {
     "data": {
      "application/vnd.jupyter.widget-view+json": {
       "model_id": "be564481100c462ca738370e80b167f5",
       "version_major": 2,
       "version_minor": 0
      },
      "text/plain": [
       "Renderer(camera=PerspectiveCamera(children=(DirectionalLight(color='white', intensity=0.6, position=(0.0138960…"
      ]
     },
     "metadata": {},
     "output_type": "display_data"
    },
    {
     "data": {
      "application/vnd.jupyter.widget-view+json": {
       "model_id": "d3f2628a48a74a81bc2aa99c459ab5d9",
       "version_major": 2,
       "version_minor": 0
      },
      "text/plain": [
       "interactive(children=(FloatSlider(value=0.0, description='x', max=1.0, min=-1.0, step=0.0001), FloatSlider(val…"
      ]
     },
     "metadata": {},
     "output_type": "display_data"
    },
    {
     "data": {
      "text/plain": [
       "<function __main__.f(x, y, z)>"
      ]
     },
     "execution_count": 2,
     "metadata": {},
     "output_type": "execute_result"
    }
   ],
   "source": [
    "# Set mesh file and sliders range.\n",
    "mesh_file = \"input/armadillo_1k.off\"\n",
    "slider_range = (-1., 1., 0.0001)\n",
    "\n",
    "# Load and display mesh\n",
    "v, f = load_mesh(mesh_file)\n",
    "d = mp.plot(v, f, c=v[:, 1], return_plot=True)\n",
    "\n",
    "# Create interactive sliders\n",
    "def f(x, y, z):\n",
    "    pts = np.array([[x, y, z]])\n",
    "    d.add_points(pts, shading={\"point_color\": \"red\", \"point_size\": 0.1})\n",
    "    return x\n",
    "\n",
    "mp.interact(f, x=slider_range, y=slider_range, z=slider_range)"
   ]
  },
  {
   "cell_type": "code",
   "execution_count": 6,
   "metadata": {},
   "outputs": [],
   "source": [
    "# Set selection boundary\n",
    "# Selection 1\n",
    "x = 0.30\n",
    "increasing_x = True\n",
    "\n",
    "y = 0.26\n",
    "increasing_y = True\n",
    "\n",
    "z = -0.18\n",
    "increasing_z = False\n",
    "\n",
    "# # Selection 2\n",
    "# x = -9999\n",
    "# increasing_x = True\n",
    "\n",
    "# y = -0.48\n",
    "# increasing_y = False\n",
    "\n",
    "# z = 9999\n",
    "# increasing_z = False\n",
    "\n",
    "# Select vertices\n",
    "def select_vertices(axis, value, vertex_set, direction):\n",
    "    \"\"\" Select vertices along one axis according to specified value and direction.\n",
    "    \n",
    "    Args:\n",
    "        axis (string): the axis\n",
    "        value (float): the bound of the selection\n",
    "        vertex_set (np.ndarray): the set of vertices from which to select\n",
    "        direction (bool): the direction, True = higher, False = lower\n",
    "    \n",
    "    Returns:\n",
    "        np.ndarray: the selected vertices\n",
    "    \"\"\"\n",
    "    axes = {\n",
    "        \"x\": 0,\n",
    "        \"y\": 1,\n",
    "        \"z\": 2\n",
    "    }\n",
    "    axis = axes[axis]\n",
    "    \n",
    "    indices = []\n",
    "    vertices = []\n",
    "    \n",
    "    for index, vertex in enumerate(vertex_set):\n",
    "        if direction:\n",
    "            if vertex[axis] > value:\n",
    "                indices.append(index)\n",
    "                vertices.append(vertex)\n",
    "        else:\n",
    "            if vertex[axis] < value:\n",
    "                indices.append(index)\n",
    "                vertices.append(vertex)\n",
    "                                \n",
    "    return indices, vertices\n",
    "\n",
    "# Find the vertices\n",
    "indices_1, select_by_x = select_vertices(\"x\", x, v, increasing_x)\n",
    "indices_2, select_by_y = select_vertices(\"y\", y, select_by_x, increasing_y)\n",
    "indices_3, selected = select_vertices(\"z\", z, select_by_y, increasing_z)\n",
    "\n",
    "for i in range(len(selected)):\n",
    "    selected[i] = selected[i].tolist()\n",
    "\n",
    "# Retrieve the indices\n",
    "indices = [indices_1[i1] for i1 in [indices_2[i2] for i2 in indices_3]]"
   ]
  },
  {
   "cell_type": "markdown",
   "metadata": {},
   "source": [
    "## Save the selection to make another one"
   ]
  },
  {
   "cell_type": "code",
   "execution_count": 7,
   "metadata": {},
   "outputs": [],
   "source": [
    "# Selections\n",
    "selection_1_indices = indices\n",
    "selection_1_selected = selected\n",
    "\n",
    "# selection_2_indices = indices\n",
    "# selection_2_selected = selected"
   ]
  },
  {
   "cell_type": "code",
   "execution_count": 8,
   "metadata": {},
   "outputs": [
    {
     "name": "stdout",
     "output_type": "stream",
     "text": [
      "[670, 679, 688, 693, 710, 729, 730, 746, 754, 761, 762, 770, 775, 781, 784, 788, 795, 803, 808, 809, 816, 821, 822, 825]\n",
      "[0, 17, 18, 27, 29, 36, 37, 47, 48, 49, 64, 66, 67, 81, 82, 93, 94, 98, 105, 108, 109, 110, 121, 122, 137, 139, 152, 153, 179, 181, 188, 189, 204, 206, 207, 209, 211, 216, 229, 231, 232, 235, 239, 240, 241, 284, 288, 289, 291, 293, 296, 300, 307, 316, 324, 328, 330, 346, 356, 380, 401, 412, 431, 433, 470, 507, 518, 571, 574, 580, 584, 601, 606, 641, 677, 682, 720, 740, 743, 794, 818]\n"
     ]
    }
   ],
   "source": [
    "# Check selections\n",
    "print(selection_1_indices)\n",
    "print(selection_2_indices)"
   ]
  },
  {
   "cell_type": "markdown",
   "metadata": {},
   "source": [
    "## Move the choosen vertices"
   ]
  },
  {
   "cell_type": "code",
   "execution_count": 9,
   "metadata": {},
   "outputs": [],
   "source": [
    "# backup = selection_1_selected\n",
    "selection_1_moved = selection_1_selected + np.array([1, 1, 0])"
   ]
  },
  {
   "cell_type": "code",
   "execution_count": 10,
   "metadata": {},
   "outputs": [
    {
     "name": "stdout",
     "output_type": "stream",
     "text": [
      "[[0.367542, 0.35022, -0.185912], [0.334203, 0.311586, -0.18917], [0.38234, 0.343596, -0.201376], [0.427481, 0.265231, -0.182077], [0.425766, 0.284506, -0.209741], [0.345912, 0.348994, -0.219485], [0.356636, 0.29111, -0.223968], [0.395689, 0.323604, -0.23446], [0.337906, 0.379843, -0.208252], [0.345978, 0.329238, -0.235828], [0.42547, 0.270606, -0.241654], [0.363501, 0.330691, -0.257165], [0.408756, 0.296902, -0.2511], [0.376021, 0.354701, -0.244533], [0.363407, 0.310052, -0.257869], [0.378165, 0.293864, -0.259641], [0.392787, 0.281106, -0.266187], [0.348884, 0.366952, -0.246671], [0.345315, 0.352291, -0.262713], [0.396219, 0.31758, -0.270987], [0.377043, 0.333428, -0.272238], [0.400503, 0.291763, -0.27438], [0.402826, 0.264528, -0.274417], [0.360786, 0.316454, -0.285082]]\n",
      "[[ 1.367542  1.35022  -0.185912]\n",
      " [ 1.334203  1.311586 -0.18917 ]\n",
      " [ 1.38234   1.343596 -0.201376]\n",
      " [ 1.427481  1.265231 -0.182077]\n",
      " [ 1.425766  1.284506 -0.209741]\n",
      " [ 1.345912  1.348994 -0.219485]\n",
      " [ 1.356636  1.29111  -0.223968]\n",
      " [ 1.395689  1.323604 -0.23446 ]\n",
      " [ 1.337906  1.379843 -0.208252]\n",
      " [ 1.345978  1.329238 -0.235828]\n",
      " [ 1.42547   1.270606 -0.241654]\n",
      " [ 1.363501  1.330691 -0.257165]\n",
      " [ 1.408756  1.296902 -0.2511  ]\n",
      " [ 1.376021  1.354701 -0.244533]\n",
      " [ 1.363407  1.310052 -0.257869]\n",
      " [ 1.378165  1.293864 -0.259641]\n",
      " [ 1.392787  1.281106 -0.266187]\n",
      " [ 1.348884  1.366952 -0.246671]\n",
      " [ 1.345315  1.352291 -0.262713]\n",
      " [ 1.396219  1.31758  -0.270987]\n",
      " [ 1.377043  1.333428 -0.272238]\n",
      " [ 1.400503  1.291763 -0.27438 ]\n",
      " [ 1.402826  1.264528 -0.274417]\n",
      " [ 1.360786  1.316454 -0.285082]]\n"
     ]
    }
   ],
   "source": [
    "# Check movement\n",
    "print(selection_1_selected)\n",
    "print(selection_1_moved)"
   ]
  },
  {
   "cell_type": "markdown",
   "metadata": {},
   "source": [
    "## Output to JSON file"
   ]
  },
  {
   "cell_type": "markdown",
   "metadata": {},
   "source": [
    "Run this cell to save the selected vertices to a JSON file."
   ]
  },
  {
   "cell_type": "code",
   "execution_count": 43,
   "metadata": {
    "scrolled": true
   },
   "outputs": [],
   "source": [
    "mesh_name = mesh_file.split(\".\")[0].split(\"/\")[-1]\n",
    "output_file = f\"output/{mesh_name}-anchors.json\"\n",
    "\n",
    "# Combine selections\n",
    "selection_1 = list(zip(selection_1_indices, selection_1_moved))\n",
    "selection_2 = list(zip(selection_2_indices, selection_2_selected))\n",
    "selection_merged = np.concatenate((selection_1, selection_2))\n",
    "\n",
    "# Convert to Python list\n",
    "selection_merged = np.array(selection_merged)\n",
    "for i in range(len(selection_merged)):\n",
    "    if type(selection_merged[i][1]).__module__ == np.__name__:\n",
    "        selection_merged[i][1] = selection_merged[i][1].tolist()\n",
    "\n",
    "# Reorder based on indices\n",
    "selection_merged = selection_merged[selection_merged[:, 0].argsort()]\n",
    "\n",
    "\n",
    "# Save selected vertices as JSON\n",
    "data = {\n",
    "    \"indices\": selection_merged[:, 0].tolist(),\n",
    "    \"new_positions\": selection_merged[:, 1].tolist()\n",
    "}\n",
    "\n",
    "with open(output_file, \"w+\") as f:\n",
    "    json.dump(data, f)"
   ]
  },
  {
   "cell_type": "code",
   "execution_count": null,
   "metadata": {},
   "outputs": [],
   "source": []
  }
 ],
 "metadata": {
  "kernelspec": {
   "display_name": "Python 3",
   "language": "python",
   "name": "python3"
  },
  "language_info": {
   "codemirror_mode": {
    "name": "ipython",
    "version": 3
   },
   "file_extension": ".py",
   "mimetype": "text/x-python",
   "name": "python",
   "nbconvert_exporter": "python",
   "pygments_lexer": "ipython3",
   "version": "3.8.5"
  }
 },
 "nbformat": 4,
 "nbformat_minor": 4
}
